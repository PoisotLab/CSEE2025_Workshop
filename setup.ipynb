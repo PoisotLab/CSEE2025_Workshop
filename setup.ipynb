{
  "cells": [
    {
      "cell_type": "markdown",
      "metadata": {},
      "source": [
        "# Setup and Prerequesites\n",
        "\n",
        "Here’s a list of instructions to setup your computer for the workshop.\n",
        "\n",
        "First, open a terminal.\n",
        "\n",
        "## Installing Julia\n",
        "\n",
        "Copy and paste the following command to install Julia, and the Julia\n",
        "version manager `juliaup`.\n",
        "\n",
        "``` {bash}\n",
        "#| eval: false\n",
        "curl -fsSL https://install.julialang.org | sh\n",
        "```\n",
        "\n",
        "## Installing Packages\n",
        "\n",
        "Next, from a terminal, start Julia by typing `julia` and pressing enter.\n",
        "Then, run the following lines."
      ],
      "id": "46ab81a3-0be6-401f-97e3-d952d3efa4de"
    },
    {
      "cell_type": "code",
      "execution_count": 0,
      "metadata": {},
      "outputs": [],
      "source": [
        "using Pkg\n",
        "Pkg.add([\n",
        "    \"SpeciesDistributionToolkit\",\n",
        "    \"CairoMakie\",\n",
        "    \"Dates\",\n",
        "    \"PrettyTables\",\n",
        "    \"DataFrames\",\n",
        "    \"IJulia\"\n",
        "])"
      ],
      "id": "2"
    },
    {
      "cell_type": "markdown",
      "metadata": {},
      "source": [
        "Then, copy and paste the following layer to download the environmental\n",
        "predictors ahead of time (to avoid everyone attempting to download them\n",
        "at once on hotel Wi-Fi). This may take several minutes, depending on\n",
        "your internet connection."
      ],
      "id": "597ceea0-d81f-43a0-a048-7d9012f22036"
    },
    {
      "cell_type": "code",
      "execution_count": 0,
      "metadata": {},
      "outputs": [],
      "source": [
        "using SpeciesDistributionToolkit\n",
        "using IJulia\n",
        "\n",
        "installkernel(\"julia\")\n",
        "\n",
        "[\n",
        "    SDMLayer(RasterData(CHELSA2, BioClim), layer=\"BIO$i\", left=40, right=43, bottom=30, top=35)\n",
        "    for i in 1:19\n",
        "]"
      ],
      "id": "4"
    },
    {
      "cell_type": "markdown",
      "metadata": {},
      "source": [
        "## Installing VSCode\n",
        "\n",
        "Install VSCode from [here](https://code.visualstudio.com/download).\n",
        "\n",
        "## Installing Quarto\n",
        "\n",
        "Finally, install Quarto from\n",
        "[here](https://quarto.org/docs/get-started/)."
      ],
      "id": "4cb8ed86-3fba-4e2b-9c70-1b1be77dfcfe"
    }
  ],
  "nbformat": 4,
  "nbformat_minor": 5,
  "metadata": {
    "kernel_info": {
      "name": "julia"
    },
    "kernelspec": {
      "name": "julia",
      "display_name": "Julia",
      "language": "julia"
    },
    "language_info": {
      "name": "julia",
      "codemirror_mode": "julia",
      "version": "1.11.5"
    }
  }
}