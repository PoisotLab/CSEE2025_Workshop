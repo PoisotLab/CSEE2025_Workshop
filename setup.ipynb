{
  "cells": [
    {
      "cell_type": "markdown",
      "metadata": {},
      "source": [
        "# Setup and Prerequesites\n",
        "\n",
        "Here’s a list of instructions to setup your computer for the workshop.\n",
        "\n",
        "## Installing Julia\n",
        "\n",
        "``` {shell}\n",
        "#| eval: false\n",
        "curl -fsSL https://install.julialang.org | sh\n",
        "```\n",
        "\n",
        "## Installing Packages"
      ],
      "id": "1e10257a-dd87-4f4a-bca5-d60e3577d9ef"
    },
    {
      "cell_type": "code",
      "execution_count": 0,
      "metadata": {},
      "outputs": [],
      "source": [
        "using Pkg\n",
        "Pkg.add([\n",
        "    \"SpeciesDistributionToolkit\",\n",
        "    \"CairoMakie\",\n",
        "    \"Dates\",\n",
        "    \"PrettyTables\",\n",
        "    \"DataFrames\",\n",
        "])"
      ],
      "id": "2"
    },
    {
      "cell_type": "code",
      "execution_count": 0,
      "metadata": {},
      "outputs": [],
      "source": [
        "using Pkg\n",
        "Pkg.add([\n",
        "    \"SpeciesDistributionToolkit\",\n",
        "    \"CairoMakie\",\n",
        "    \"Dates\",\n",
        "    \"PrettyTables\",\n",
        "    \"DataFrames\",\n",
        "])"
      ],
      "id": "4"
    }
  ],
  "nbformat": 4,
  "nbformat_minor": 5,
  "metadata": {
    "kernel_info": {
      "name": "julia"
    },
    "kernelspec": {
      "name": "julia",
      "display_name": "Julia",
      "language": "julia"
    },
    "language_info": {
      "name": "julia",
      "codemirror_mode": "julia",
      "version": "1.11.5"
    }
  }
}