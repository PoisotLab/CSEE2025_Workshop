{
  "cells": [
    {
      "cell_type": "markdown",
      "metadata": {},
      "source": [
        "# Setup and Prerequesites\n",
        "\n",
        "Here’s a list of instructions to setup your computer for the workshop.\n",
        "\n",
        "## Installing git\n",
        "\n",
        "Make sure you have git installed.\n",
        "\n",
        "## Installing Julia\n",
        "\n",
        "Copy and paste the following command to install Julia, and the Julia\n",
        "version manager `juliaup`.\n",
        "\n",
        "    curl -fsSL https://install.julialang.org | sh\n",
        "\n",
        "## Installing Packages\n",
        "\n",
        "Next, from a terminal, start Julia by typing `julia` and pressing enter.\n",
        "Then, run the following lines."
      ],
      "id": "49456fcf-a6f9-4ce6-8e14-a35ed01f3e7d"
    },
    {
      "cell_type": "code",
      "execution_count": 0,
      "metadata": {},
      "outputs": [],
      "source": [
        "using Pkg\n",
        "Pkg.add([\n",
        "    \"SpeciesDistributionToolkit\",\n",
        "    \"CairoMakie\",\n",
        "    \"Dates\",\n",
        "    \"PrettyTables\",\n",
        "    \"DataFrames\",\n",
        "    \"IJulia\"\n",
        "])"
      ],
      "id": "2"
    },
    {
      "cell_type": "markdown",
      "metadata": {},
      "source": [
        "Then, copy and paste the following layer to download the environmental\n",
        "predictors ahead of time (to avoid everyone attempting to download them\n",
        "at once on hotel Wi-Fi). This may take several minutes, depending on\n",
        "your internet connection."
      ],
      "id": "5f0ec4c1-abbb-4652-ace0-e67cc6ab9c37"
    },
    {
      "cell_type": "code",
      "execution_count": 0,
      "metadata": {},
      "outputs": [],
      "source": [
        "using SpeciesDistributionToolkit\n",
        "using IJulia\n",
        "\n",
        "installkernel(\"julia\")\n",
        "\n",
        "[\n",
        "    SDMLayer(RasterData(CHELSA2, BioClim), layer=\"BIO$i\", left=40, right=43, bottom=30, top=35)\n",
        "    for i in 1:19\n",
        "]"
      ],
      "id": "4"
    },
    {
      "cell_type": "markdown",
      "metadata": {},
      "source": [
        "## Installing VSCode\n",
        "\n",
        "Install VSCode from [here](https://code.visualstudio.com/download).\n",
        "\n",
        "Once VSCode is install It’s also recommended you install the Julia\n",
        "extension for VSCode\n",
        "[here](https://marketplace.visualstudio.com/items?itemName=julialang.language-julia)\n",
        "\n",
        "## Installing Quarto\n",
        "\n",
        "Install Quarto from [here](https://quarto.org/docs/get-started/)."
      ],
      "id": "6384276d-adec-4971-bd8f-7e1b4127adc6"
    }
  ],
  "nbformat": 4,
  "nbformat_minor": 5,
  "metadata": {
    "kernel_info": {
      "name": "julia"
    },
    "kernelspec": {
      "name": "julia",
      "display_name": "Julia",
      "language": "julia"
    },
    "language_info": {
      "name": "julia",
      "codemirror_mode": "julia",
      "version": "1.11.5"
    }
  }
}